x = 20
z = 30
y = 25

def add(x,y):
  result = x + y
  return result

print(x+20)
