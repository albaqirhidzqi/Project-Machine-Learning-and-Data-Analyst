x = 20

print(x+20)
