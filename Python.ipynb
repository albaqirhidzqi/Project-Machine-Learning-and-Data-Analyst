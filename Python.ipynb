x = 20
z = 44
y = 25

def add(x,y):
  result = x + y
  return result

print(x+20)
